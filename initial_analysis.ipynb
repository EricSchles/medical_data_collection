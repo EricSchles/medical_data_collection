{
 "cells": [
  {
   "cell_type": "code",
   "execution_count": 1,
   "id": "a273af52",
   "metadata": {},
   "outputs": [],
   "source": [
    "from glob import glob\n",
    "import pandas as pd\n",
    "\n",
    "csvs = glob(\"*.csv\")\n",
    "\n",
    "dfs = {}\n",
    "for csv in csvs:\n",
    "    dfs[csv] = pd.read_csv(csv)"
   ]
  },
  {
   "cell_type": "code",
   "execution_count": 2,
   "id": "7b0ec2c4",
   "metadata": {},
   "outputs": [
    {
     "data": {
      "text/plain": [
       "['child_abuse_investigation.csv',\n",
       " 'prevalence_2021_and_prior.csv',\n",
       " 'prevalence_data.csv',\n",
       " 'child_abuse_by_age.csv',\n",
       " 'smart_age_2011_to_present.csv',\n",
       " 'perpetrator_trends.csv',\n",
       " 'community_vulnerability_crosswalk_census_tract.csv',\n",
       " 'historical_questions.csv',\n",
       " 'age_prevalence_2011_to_present.csv',\n",
       " 'child_abuse.csv',\n",
       " 'child_abuse_by_trend.csv',\n",
       " 'community_vulnerability_crosswalk_by_rank_order_score.csv',\n",
       " 'maltreatment_victims.csv',\n",
       " 'child_fatalities.csv',\n",
       " 'smart_county_2010_and_prior.csv',\n",
       " 'relationship_to_victim.csv',\n",
       " 'hhs_id.csv',\n",
       " 'smart_2011_to_present.csv',\n",
       " 'smart_2010_and_prior.csv',\n",
       " 'child_protective_services.csv',\n",
       " 'child_fatalities_trend.csv']"
      ]
     },
     "execution_count": 2,
     "metadata": {},
     "output_type": "execute_result"
    }
   ],
   "source": [
    "csvs"
   ]
  },
  {
   "cell_type": "code",
   "execution_count": 23,
   "id": "8f17419b",
   "metadata": {},
   "outputs": [
    {
     "data": {
      "text/html": [
       "<div>\n",
       "<style scoped>\n",
       "    .dataframe tbody tr th:only-of-type {\n",
       "        vertical-align: middle;\n",
       "    }\n",
       "\n",
       "    .dataframe tbody tr th {\n",
       "        vertical-align: top;\n",
       "    }\n",
       "\n",
       "    .dataframe thead th {\n",
       "        text-align: right;\n",
       "    }\n",
       "</style>\n",
       "<table border=\"1\" class=\"dataframe\">\n",
       "  <thead>\n",
       "    <tr style=\"text-align: right;\">\n",
       "      <th></th>\n",
       "      <th>state</th>\n",
       "      <th>_2015</th>\n",
       "      <th>_2016</th>\n",
       "      <th>_2017</th>\n",
       "      <th>_2018</th>\n",
       "      <th>_2019</th>\n",
       "    </tr>\n",
       "  </thead>\n",
       "  <tbody>\n",
       "    <tr>\n",
       "      <th>0</th>\n",
       "      <td>Alabama</td>\n",
       "      <td>13.0</td>\n",
       "      <td>26.0</td>\n",
       "      <td>28.0</td>\n",
       "      <td>43.0</td>\n",
       "      <td>34.0</td>\n",
       "    </tr>\n",
       "    <tr>\n",
       "      <th>1</th>\n",
       "      <td>Alaska</td>\n",
       "      <td>5.0</td>\n",
       "      <td>1.0</td>\n",
       "      <td>2.0</td>\n",
       "      <td>2.0</td>\n",
       "      <td>1.0</td>\n",
       "    </tr>\n",
       "    <tr>\n",
       "      <th>2</th>\n",
       "      <td>Arizona</td>\n",
       "      <td>51.0</td>\n",
       "      <td>48.0</td>\n",
       "      <td>35.0</td>\n",
       "      <td>48.0</td>\n",
       "      <td>33.0</td>\n",
       "    </tr>\n",
       "    <tr>\n",
       "      <th>3</th>\n",
       "      <td>Arkansas</td>\n",
       "      <td>40.0</td>\n",
       "      <td>42.0</td>\n",
       "      <td>37.0</td>\n",
       "      <td>44.0</td>\n",
       "      <td>35.0</td>\n",
       "    </tr>\n",
       "    <tr>\n",
       "      <th>4</th>\n",
       "      <td>California</td>\n",
       "      <td>127.0</td>\n",
       "      <td>137.0</td>\n",
       "      <td>147.0</td>\n",
       "      <td>145.0</td>\n",
       "      <td>149.0</td>\n",
       "    </tr>\n",
       "  </tbody>\n",
       "</table>\n",
       "</div>"
      ],
      "text/plain": [
       "        state  _2015  _2016  _2017  _2018  _2019\n",
       "0     Alabama   13.0   26.0   28.0   43.0   34.0\n",
       "1      Alaska    5.0    1.0    2.0    2.0    1.0\n",
       "2     Arizona   51.0   48.0   35.0   48.0   33.0\n",
       "3    Arkansas   40.0   42.0   37.0   44.0   35.0\n",
       "4  California  127.0  137.0  147.0  145.0  149.0"
      ]
     },
     "execution_count": 23,
     "metadata": {},
     "output_type": "execute_result"
    }
   ],
   "source": [
    "dfs[\"child_fatalities_trend.csv\"].head()"
   ]
  },
  {
   "cell_type": "markdown",
   "id": "76f79262",
   "metadata": {},
   "source": [
    "Questionaire data:\n",
    "    * prevalence_data.csv\n",
    "    * prevalence_2021_and_prior.csv\n",
    "    * smart_age_2011_to_present.csv\n",
    "    * age_prevalence_2011_to_present.csv\n",
    "    * smart_county_2010_and_prior.csv\n",
    "    * smart_2011_to_present.csv\n",
    "    * smart_2010_and_prior.csv\n",
    "About Questionairs:\n",
    "    * regarding health, by state and over time\n",
    "    \n",
    "Trends:\n",
    "    * child_abuse_investigation.csv\n",
    "    * child_abuse_by_age.csv\n",
    "    * perpetrator_trends.csv\n",
    "    * child_abuse.csv\n",
    "    * child_abuse_by_trend.csv\n",
    "    * maltreatment_victims.csv\n",
    "    * child_fatalities.csv\n",
    "    * relationship_to_victim.csv\n",
    "    * child_protective_services.csv\n",
    "    * child_fatalities_trend.csv\n",
    "About Trends:\n",
    "    * trend data refers to negative outcomes for minors.\n",
    "    * could be related to questions - worth cross referencing outcomes and surveyed population\n",
    "    * Will need to check if surveyed population is the same as affected population in trends\n",
    "    \n",
    "Meta Analysis:\n",
    "    * community_vulnerability_crosswalk_census_tract.csv\n",
    "    * community_vulnerability_crosswalk_by_rank_order_score.csv\n",
    "    * hhs_id.csv\n",
    "About Meta Analysis:\n",
    "    * provides contextual analysis of geographies and risk assessment for likelihood of negative trends.\n",
    "    * for cross walk"
   ]
  }
 ],
 "metadata": {
  "kernelspec": {
   "display_name": "Python 3",
   "language": "python",
   "name": "python3"
  },
  "language_info": {
   "codemirror_mode": {
    "name": "ipython",
    "version": 3
   },
   "file_extension": ".py",
   "mimetype": "text/x-python",
   "name": "python",
   "nbconvert_exporter": "python",
   "pygments_lexer": "ipython3",
   "version": "3.9.5"
  }
 },
 "nbformat": 4,
 "nbformat_minor": 5
}
